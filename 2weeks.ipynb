{
 "cells": [
  {
   "cell_type": "code",
   "execution_count": 1,
   "metadata": {},
   "outputs": [],
   "source": [
    "# 2주차 1번째 수업"
   ]
  },
  {
   "cell_type": "code",
   "execution_count": 1,
   "metadata": {},
   "outputs": [
    {
     "data": {
      "text/plain": [
       "2"
      ]
     },
     "execution_count": 1,
     "metadata": {},
     "output_type": "execute_result"
    }
   ],
   "source": [
    "2# 2주차 2번째 수업"
   ]
  },
  {
   "cell_type": "code",
   "execution_count": 2,
   "metadata": {},
   "outputs": [],
   "source": [
    "def find_max_recursive(nums, i):\n",
    "  if i == len(nums) - 1:\n",
    "    return nums[i]\n",
    "  else:\n",
    "    max_val = find_max_recursive(nums, i + 1)\n",
    "    if nums[i] > max_val:\n",
    "      return nums[i]\n",
    "    else:\n",
    "      return max_val"
   ]
  },
  {
   "cell_type": "code",
   "execution_count": 3,
   "metadata": {},
   "outputs": [],
   "source": [
    "def find_max_iterative(nums):\n",
    "  max_val = nums[0]\n",
    "  for i in range(1, len(nums)):\n",
    "    if nums[i] > max_val:\n",
    "      max_val = nums[i]\n",
    "  return max_val"
   ]
  },
  {
   "cell_type": "code",
   "execution_count": 4,
   "metadata": {},
   "outputs": [],
   "source": [
    "# Get 10 inputs from the user\n",
    "nums = []\n",
    "for i in range(10):\n",
    "  nums.append(int(input(\"Enter a number: \")))\n",
    "\n",
    "# Find the maximum value using both methods\n",
    "max_recursive_val = find_max_recursive(nums, 0)\n",
    "max_iterative_val = find_max_iterative(nums)\n",
    "\n",
    "# Print the results\n",
    "print(\"Maximum value (recursive):\", max_recursive_val)\n",
    "print(\"Maximum value (iterative):\", max_iterative_val)"
   ]
  },
  {
   "cell_type": "code",
   "execution_count": null,
   "metadata": {},
   "outputs": [],
   "source": [
    "def evaluate_postfix(tokens):\n",
    "    if not tokens:\n",
    "        return None\n",
    "    \n",
    "    token = tokens.pop()\n",
    "    \n",
    "    if token.isnumeric():\n",
    "        return float(token)\n",
    "    else:\n",
    "        opre2 = evaluate_postfix(tokens)\n",
    "        opre1 = evaluate_postfix(tokens)\n",
    "        \n",
    "        if token == '+':\n",
    "            return opre1 + opre2\n",
    "        \n",
    "        "
   ]
  },
  {
   "cell_type": "code",
   "execution_count": 1,
   "metadata": {},
   "outputs": [
    {
     "data": {
      "text/plain": [
       "list"
      ]
     },
     "execution_count": 1,
     "metadata": {},
     "output_type": "execute_result"
    }
   ],
   "source": [
    "a = '2 3 4 + *'\n",
    "\n",
    "tokens = a.split()\n",
    "type(tokens)"
   ]
  }
 ],
 "metadata": {
  "kernelspec": {
   "display_name": "Python 3",
   "language": "python",
   "name": "python3"
  },
  "language_info": {
   "codemirror_mode": {
    "name": "ipython",
    "version": 3
   },
   "file_extension": ".py",
   "mimetype": "text/x-python",
   "name": "python",
   "nbconvert_exporter": "python",
   "pygments_lexer": "ipython3",
   "version": "3.9.7"
  }
 },
 "nbformat": 4,
 "nbformat_minor": 2
}
