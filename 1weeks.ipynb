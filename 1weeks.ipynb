{
 "cells": [
  {
   "cell_type": "code",
   "execution_count": 10,
   "metadata": {},
   "outputs": [
    {
     "name": "stdout",
     "output_type": "stream",
     "text": [
      "move 1 from a to b\n",
      "move 2 from a to c\n",
      "move 1 from b to c\n",
      "move 3 from a to b\n",
      "move 1 from c to a\n",
      "move 2 from c to b\n",
      "move 1 from a to b\n",
      "move 4 from a to c\n",
      "move 1 from b to c\n",
      "move 2 from b to a\n",
      "move 1 from c to a\n",
      "move 3 from b to c\n",
      "move 1 from a to b\n",
      "move 2 from a to c\n",
      "move 1 from b to c\n",
      "done\n"
     ]
    }
   ],
   "source": [
    "# 하노이 타워 \n",
    "\n",
    "def move(n, src, dest, tmp):\n",
    "    if n > 0:\n",
    "        move(n-1, src, tmp, dest) # n-1개의 원반을 임시 기둥(tmp)로 이동 dest가 임시 기둥 역할\n",
    "        print(\"move %d from %c to %c\" % (n, src, dest)) # 가장 큰 원반 n번 원반을 src에서 dest로 이동\n",
    "        move(n-1, tmp, dest, src) #tmp로 옮겨둔 n-1개의 원반을 dest로 이동 src가 임시 기둥 역할\n",
    "    return 'done'\n",
    "print(move(4, 'a', 'c', 'b'))"
   ]
  },
  {
   "cell_type": "code",
   "execution_count": 2,
   "metadata": {},
   "outputs": [
    {
     "name": "stdout",
     "output_type": "stream",
     "text": [
      "1267650600228229401496703205376\n"
     ]
    }
   ],
   "source": [
    "# 2^n을 계산해주는 pow2(n)을 재귀적으로 구현\n",
    "\n",
    "def pow2(n):\n",
    "    if n == 1:\n",
    "        return 2\n",
    "    else:\n",
    "        return 2 * pow2(n-1)\n",
    "    \n",
    "print(pow2(100))"
   ]
  },
  {
   "cell_type": "code",
   "execution_count": 1,
   "metadata": {},
   "outputs": [
    {
     "name": "stdout",
     "output_type": "stream",
     "text": [
      "100\n"
     ]
    }
   ],
   "source": [
    "# 리스트에서 최대값을 찾는 프로그램을 재귀적으로 만들기\n",
    "\n",
    "def max(num, n):\n",
    "    if n == 0:\n",
    "        return num[0]\n",
    "    else:\n",
    "        max_of_rest = max(num, n - 1)\n",
    "        if num[n] > max_of_rest:\n",
    "            return num[n]\n",
    "        else:\n",
    "            return max_of_rest\n",
    "\n",
    "num = [2, 4, 100, 18, 9, 3]\n",
    "\n",
    "print(max(num, len(num)-1))"
   ]
  },
  {
   "cell_type": "code",
   "execution_count": null,
   "metadata": {},
   "outputs": [],
   "source": []
  }
 ],
 "metadata": {
  "kernelspec": {
   "display_name": "base",
   "language": "python",
   "name": "python3"
  },
  "language_info": {
   "codemirror_mode": {
    "name": "ipython",
    "version": 3
   },
   "file_extension": ".py",
   "mimetype": "text/x-python",
   "name": "python",
   "nbconvert_exporter": "python",
   "pygments_lexer": "ipython3",
   "version": "3.9.7"
  }
 },
 "nbformat": 4,
 "nbformat_minor": 2
}
