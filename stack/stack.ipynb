{
 "cells": [
  {
   "cell_type": "code",
   "execution_count": 1,
   "metadata": {},
   "outputs": [],
   "source": [
    "class liststack:\n",
    "    def __init__(self):\n",
    "        self.__stack = []\n",
    "    \n",
    "    def push(self, x):\n",
    "        self.__stack.append(x)\n",
    "    \n",
    "    def pop(self):\n",
    "        return self.__stack.pop()\n",
    "    \n",
    "    def top(self):\n",
    "        if self.isEmpty():\n",
    "            return None\n",
    "        else:\n",
    "            return self.__stack[-1]\n",
    "        \n",
    "    def isEmpty(self) -> bool :\n",
    "        return not bool(self.__stack)\n",
    "    \n",
    "    def popAll(self):\n",
    "        self.__stack.clear()\n",
    "        \n",
    "    def prinStack(self):\n",
    "        print(\"stack from top\", end = ' ')\n",
    "        for i in range(len(self.__stack)-1,-1,-1):\n",
    "            print(self.__stack[i], end = ' ')\n",
    "        print()"
   ]
  },
  {
   "cell_type": "code",
   "execution_count": 2,
   "metadata": {},
   "outputs": [],
   "source": [
    "st1 = liststack()\n",
    "\n",
    "st1.push(100)"
   ]
  },
  {
   "cell_type": "code",
   "execution_count": 3,
   "metadata": {},
   "outputs": [],
   "source": [
    "st1.push(200)"
   ]
  },
  {
   "cell_type": "code",
   "execution_count": 4,
   "metadata": {},
   "outputs": [
    {
     "name": "stdout",
     "output_type": "stream",
     "text": [
      "Top is 200\n"
     ]
    }
   ],
   "source": [
    "print(\"Top is\", st1.pop())"
   ]
  },
  {
   "cell_type": "code",
   "execution_count": 5,
   "metadata": {},
   "outputs": [
    {
     "data": {
      "text/plain": [
       "100"
      ]
     },
     "execution_count": 5,
     "metadata": {},
     "output_type": "execute_result"
    }
   ],
   "source": [
    "st1.pop()"
   ]
  },
  {
   "cell_type": "code",
   "execution_count": 6,
   "metadata": {},
   "outputs": [],
   "source": [
    "st1.push(\"Monday\")"
   ]
  },
  {
   "cell_type": "code",
   "execution_count": 7,
   "metadata": {},
   "outputs": [
    {
     "name": "stdout",
     "output_type": "stream",
     "text": [
      "stack from top Monday \n"
     ]
    }
   ],
   "source": [
    "st1.prinStack()"
   ]
  },
  {
   "cell_type": "markdown",
   "metadata": {},
   "source": [
    "1. 주어진 문자열의 순서를 뒤집는 작업을 ListStack 을 이용해 구현하고, 테스트한다"
   ]
  },
  {
   "cell_type": "code",
   "execution_count": 9,
   "metadata": {},
   "outputs": [
    {
     "data": {
      "text/plain": [
       "'4321tseT'"
      ]
     },
     "execution_count": 9,
     "metadata": {},
     "output_type": "execute_result"
    }
   ],
   "source": [
    "def reverse(str):\n",
    "    st = liststack()\n",
    "    for i in range(len(str)):\n",
    "        st.push(str[i])\n",
    "    out = \"\"\n",
    "    while not st.isEmpty():\n",
    "        out += st.pop()\n",
    "    return out\n",
    "\n",
    "\n",
    "(reverse(\"Test1234\"))"
   ]
  },
  {
   "cell_type": "markdown",
   "metadata": {},
   "source": [
    " 2. 입력으로 들어온 문자열이 다음 집합의 원소인지 체크하는 코드를 스택을 이용해서 작성하시오. 예를 들어, abc$cba 문자열은 True 를 반환하고, abc$abc 는 False 를 반환한다    { w$wR | w: 문자열, wR: w 의 순서를 뒤집어 놓은 것 }\n",
    " "
   ]
  },
  {
   "cell_type": "code",
   "execution_count": 10,
   "metadata": {},
   "outputs": [
    {
     "name": "stdout",
     "output_type": "stream",
     "text": [
      "True\n",
      "False\n"
     ]
    }
   ],
   "source": [
    "def decal(s):\n",
    "    st = liststack()\n",
    "    mid_found = False\n",
    "    \n",
    "    for char in s:\n",
    "        if char == '$':\n",
    "            mid_found = True\n",
    "            continue\n",
    "        \n",
    "        if not mid_found:\n",
    "            st.push(char)\n",
    "        else:\n",
    "            if st.isEmpty() or st.pop() != char:\n",
    "                return False\n",
    "    \n",
    "    return st.isEmpty() and mid_found\n",
    "\n",
    "print(decal(\"ab$ba\"))  # True\n",
    "print(decal(\"abc$abc\"))  # False"
   ]
  },
  {
   "cell_type": "markdown",
   "metadata": {},
   "source": [
    "3. 문자열을 받아 괄호 ‘(‘, ‘)’ 의 좌우 균형이 맞는지 체크해서 균형이 맞으면 True, 맞지 않으면 False 를 리턴하는 함수 paranBalance() 를 스택을 이용해 구현하고, 아래의 수식을 테스트 하시오. => 괄호가 잘 닫혔는지 확인\n",
    "\n",
    "((800/(3+5)*2)\n",
    "\n",
    "(82+2) / 4)\n",
    "\n",
    "(91 * (40-35) +2)\n"
   ]
  },
  {
   "cell_type": "code",
   "execution_count": 11,
   "metadata": {},
   "outputs": [],
   "source": [
    "def paranBalance(s):\n",
    "    st = liststack()\n",
    "    for char in s:\n",
    "        if char == '(':\n",
    "            st.push(char)\n",
    "        elif char == ')':\n",
    "            if st.isEmpty():\n",
    "                # 닫는 괄호가 더 많은 경우\n",
    "                return False\n",
    "            st.pop()\n",
    "    # 스택이 비어있지 않으면 열린 괄호가 더 많은 경우\n",
    "    return st.isEmpty()"
   ]
  },
  {
   "cell_type": "code",
   "execution_count": 12,
   "metadata": {},
   "outputs": [
    {
     "name": "stdout",
     "output_type": "stream",
     "text": [
      "False False True\n"
     ]
    }
   ],
   "source": [
    "print(paranBalance(\"((800/(3+5)*2)\"), paranBalance(\"(82+2) / 4)\"),paranBalance(\"(91 * (40-35) +2)\"))"
   ]
  },
  {
   "cell_type": "code",
   "execution_count": null,
   "metadata": {},
   "outputs": [],
   "source": []
  }
 ],
 "metadata": {
  "kernelspec": {
   "display_name": "base",
   "language": "python",
   "name": "python3"
  },
  "language_info": {
   "codemirror_mode": {
    "name": "ipython",
    "version": 3
   },
   "file_extension": ".py",
   "mimetype": "text/x-python",
   "name": "python",
   "nbconvert_exporter": "python",
   "pygments_lexer": "ipython3",
   "version": "3.9.7"
  }
 },
 "nbformat": 4,
 "nbformat_minor": 2
}
